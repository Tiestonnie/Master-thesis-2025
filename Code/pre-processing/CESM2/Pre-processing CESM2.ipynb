{
 "cells": [
  {
   "cell_type": "code",
   "execution_count": 3,
   "id": "e3041b23",
   "metadata": {},
   "outputs": [
    {
     "name": "stdout",
     "output_type": "stream",
     "text": [
      "Found 17 files: ['C:/Users/31610/Documents/UvA/Master thesis/Data/CESM2 Data/test set V050\\\\b.e21.BHISTsmbb.f09_g17.LE2-1251.012.cam.h1.V050.18500101-18591231.nc', 'C:/Users/31610/Documents/UvA/Master thesis/Data/CESM2 Data/test set V050\\\\b.e21.BHISTsmbb.f09_g17.LE2-1251.012.cam.h1.V050.18600101-18691231.nc', 'C:/Users/31610/Documents/UvA/Master thesis/Data/CESM2 Data/test set V050\\\\b.e21.BHISTsmbb.f09_g17.LE2-1251.012.cam.h1.V050.18700101-18791231.nc', 'C:/Users/31610/Documents/UvA/Master thesis/Data/CESM2 Data/test set V050\\\\b.e21.BHISTsmbb.f09_g17.LE2-1251.012.cam.h1.V050.18800101-18891231.nc', 'C:/Users/31610/Documents/UvA/Master thesis/Data/CESM2 Data/test set V050\\\\b.e21.BHISTsmbb.f09_g17.LE2-1251.012.cam.h1.V050.18900101-18991231.nc', 'C:/Users/31610/Documents/UvA/Master thesis/Data/CESM2 Data/test set V050\\\\b.e21.BHISTsmbb.f09_g17.LE2-1251.012.cam.h1.V050.19000101-19091231.nc', 'C:/Users/31610/Documents/UvA/Master thesis/Data/CESM2 Data/test set V050\\\\b.e21.BHISTsmbb.f09_g17.LE2-1251.012.cam.h1.V050.19100101-19191231.nc', 'C:/Users/31610/Documents/UvA/Master thesis/Data/CESM2 Data/test set V050\\\\b.e21.BHISTsmbb.f09_g17.LE2-1251.012.cam.h1.V050.19200101-19291231.nc', 'C:/Users/31610/Documents/UvA/Master thesis/Data/CESM2 Data/test set V050\\\\b.e21.BHISTsmbb.f09_g17.LE2-1251.012.cam.h1.V050.19300101-19391231.nc', 'C:/Users/31610/Documents/UvA/Master thesis/Data/CESM2 Data/test set V050\\\\b.e21.BHISTsmbb.f09_g17.LE2-1251.012.cam.h1.V050.19400101-19491231.nc', 'C:/Users/31610/Documents/UvA/Master thesis/Data/CESM2 Data/test set V050\\\\b.e21.BHISTsmbb.f09_g17.LE2-1251.012.cam.h1.V050.19500101-19591231.nc', 'C:/Users/31610/Documents/UvA/Master thesis/Data/CESM2 Data/test set V050\\\\b.e21.BHISTsmbb.f09_g17.LE2-1251.012.cam.h1.V050.19600101-19691231.nc', 'C:/Users/31610/Documents/UvA/Master thesis/Data/CESM2 Data/test set V050\\\\b.e21.BHISTsmbb.f09_g17.LE2-1251.012.cam.h1.V050.19700101-19791231.nc', 'C:/Users/31610/Documents/UvA/Master thesis/Data/CESM2 Data/test set V050\\\\b.e21.BHISTsmbb.f09_g17.LE2-1251.012.cam.h1.V050.19800101-19891231.nc', 'C:/Users/31610/Documents/UvA/Master thesis/Data/CESM2 Data/test set V050\\\\b.e21.BHISTsmbb.f09_g17.LE2-1251.012.cam.h1.V050.19900101-19991231.nc', 'C:/Users/31610/Documents/UvA/Master thesis/Data/CESM2 Data/test set V050\\\\b.e21.BHISTsmbb.f09_g17.LE2-1251.012.cam.h1.V050.20000101-20091231.nc', 'C:/Users/31610/Documents/UvA/Master thesis/Data/CESM2 Data/test set V050\\\\b.e21.BHISTsmbb.f09_g17.LE2-1251.012.cam.h1.V050.20100101-20141231.nc']\n"
     ]
    }
   ],
   "source": [
    "import xarray as xr\n",
    "import glob\n",
    "import numpy as np\n",
    "\n",
    "# Directory containing the NetCDF files\n",
    "data_dir = \"C:/Users/31610/Documents/UvA/Master thesis/Data/CESM2 Data/test set V050/\"\n",
    "file_pattern = f\"{data_dir}*.nc\"\n",
    "\n",
    "# Step 1: Find and sort all NetCDF files\n",
    "file_list = sorted(glob.glob(file_pattern))  # Sort to ensure chronological order\n",
    "print(f\"Found {len(file_list)} files: {file_list}\")"
   ]
  },
  {
   "cell_type": "code",
   "execution_count": 4,
   "id": "8cc0cd97",
   "metadata": {},
   "outputs": [
    {
     "name": "stdout",
     "output_type": "stream",
     "text": [
      "Found 17 files: ['C:/Users/31610/Documents/UvA/Master thesis/Data/CESM2 Data/test set V050\\\\b.e21.BHISTsmbb.f09_g17.LE2-1251.012.cam.h1.V050.18500101-18591231.nc', 'C:/Users/31610/Documents/UvA/Master thesis/Data/CESM2 Data/test set V050\\\\b.e21.BHISTsmbb.f09_g17.LE2-1251.012.cam.h1.V050.18600101-18691231.nc', 'C:/Users/31610/Documents/UvA/Master thesis/Data/CESM2 Data/test set V050\\\\b.e21.BHISTsmbb.f09_g17.LE2-1251.012.cam.h1.V050.18700101-18791231.nc', 'C:/Users/31610/Documents/UvA/Master thesis/Data/CESM2 Data/test set V050\\\\b.e21.BHISTsmbb.f09_g17.LE2-1251.012.cam.h1.V050.18800101-18891231.nc', 'C:/Users/31610/Documents/UvA/Master thesis/Data/CESM2 Data/test set V050\\\\b.e21.BHISTsmbb.f09_g17.LE2-1251.012.cam.h1.V050.18900101-18991231.nc', 'C:/Users/31610/Documents/UvA/Master thesis/Data/CESM2 Data/test set V050\\\\b.e21.BHISTsmbb.f09_g17.LE2-1251.012.cam.h1.V050.19000101-19091231.nc', 'C:/Users/31610/Documents/UvA/Master thesis/Data/CESM2 Data/test set V050\\\\b.e21.BHISTsmbb.f09_g17.LE2-1251.012.cam.h1.V050.19100101-19191231.nc', 'C:/Users/31610/Documents/UvA/Master thesis/Data/CESM2 Data/test set V050\\\\b.e21.BHISTsmbb.f09_g17.LE2-1251.012.cam.h1.V050.19200101-19291231.nc', 'C:/Users/31610/Documents/UvA/Master thesis/Data/CESM2 Data/test set V050\\\\b.e21.BHISTsmbb.f09_g17.LE2-1251.012.cam.h1.V050.19300101-19391231.nc', 'C:/Users/31610/Documents/UvA/Master thesis/Data/CESM2 Data/test set V050\\\\b.e21.BHISTsmbb.f09_g17.LE2-1251.012.cam.h1.V050.19400101-19491231.nc', 'C:/Users/31610/Documents/UvA/Master thesis/Data/CESM2 Data/test set V050\\\\b.e21.BHISTsmbb.f09_g17.LE2-1251.012.cam.h1.V050.19500101-19591231.nc', 'C:/Users/31610/Documents/UvA/Master thesis/Data/CESM2 Data/test set V050\\\\b.e21.BHISTsmbb.f09_g17.LE2-1251.012.cam.h1.V050.19600101-19691231.nc', 'C:/Users/31610/Documents/UvA/Master thesis/Data/CESM2 Data/test set V050\\\\b.e21.BHISTsmbb.f09_g17.LE2-1251.012.cam.h1.V050.19700101-19791231.nc', 'C:/Users/31610/Documents/UvA/Master thesis/Data/CESM2 Data/test set V050\\\\b.e21.BHISTsmbb.f09_g17.LE2-1251.012.cam.h1.V050.19800101-19891231.nc', 'C:/Users/31610/Documents/UvA/Master thesis/Data/CESM2 Data/test set V050\\\\b.e21.BHISTsmbb.f09_g17.LE2-1251.012.cam.h1.V050.19900101-19991231.nc', 'C:/Users/31610/Documents/UvA/Master thesis/Data/CESM2 Data/test set V050\\\\b.e21.BHISTsmbb.f09_g17.LE2-1251.012.cam.h1.V050.20000101-20091231.nc', 'C:/Users/31610/Documents/UvA/Master thesis/Data/CESM2 Data/test set V050\\\\b.e21.BHISTsmbb.f09_g17.LE2-1251.012.cam.h1.V050.20100101-20141231.nc']\n"
     ]
    }
   ],
   "source": [
    "import xarray as xr\n",
    "import glob\n",
    "import numpy as np\n",
    "\n",
    "# Directory containing the NetCDF files\n",
    "data_dir = \"C:/Users/31610/Documents/UvA/Master thesis/Data/CESM2 Data/test set V050/\"\n",
    "file_pattern = f\"{data_dir}*.nc\"\n",
    "\n",
    "# Step 1: Find and sort all NetCDF files\n",
    "file_list = sorted(glob.glob(file_pattern))  # Sort to ensure chronological order\n",
    "print(f\"Found {len(file_list)} files: {file_list}\")\n",
    "\n",
    "# Define NAO region coordinates\n",
    "lat_min, lat_max = 20.2617801, 80.57591623  # 20°N to 80°N\n",
    "lon_min_360, lon_max_360 = 270, 40  # 90°W (270°E) to 40°E\n",
    "\n",
    "# Step 2: Process each file\n",
    "processed_datasets = []\n",
    "for file in file_list:\n",
    "    # Open the dataset\n",
    "    ds = xr.open_dataset(file, decode_times=False)\n",
    "\n",
    "    # Select the two parts of the longitude range\n",
    "    lon_part1 = ds.sel(\n",
    "        lat=slice(lat_min, lat_max),  # 20°N to 80°N\n",
    "        lon=slice(0, lon_max_360)     # 0° to 40°E\n",
    "    )\n",
    "    lon_part2 = ds.sel(\n",
    "        lat=slice(lat_min, lat_max),  # 20°N to 80°N\n",
    "        lon=slice(lon_min_360, 358.75)  # 270°E to 358.75°\n",
    "    )\n",
    "\n",
    "    # Concatenate the two longitude parts\n",
    "    nao_data = xr.concat([lon_part1, lon_part2], dim='lon')\n",
    "\n",
    "    # Rename coordinates\n",
    "    nao_data = nao_data.rename({'lon': 'longitude', 'lat': 'latitude'})\n",
    "\n",
    "    # Decode the time coordinate\n",
    "    nao_data['time'] = xr.decode_cf(nao_data)['time']\n",
    "\n",
    "    # Select winter months (November, December, January, February, March)\n",
    "    winter_months = [11, 12, 1, 2, 3]\n",
    "    nao_data = nao_data.sel(time=nao_data['time'].dt.month.isin(winter_months))\n",
    "\n",
    "    # Select only the required variables\n",
    "    nao_data = nao_data[['time', 'longitude', 'latitude', 'V050']]\n",
    "\n",
    "    # Append to list of processed datasets\n",
    "    processed_datasets.append(nao_data)\n"
   ]
  },
  {
   "cell_type": "code",
   "execution_count": 5,
   "id": "b6759dee",
   "metadata": {},
   "outputs": [],
   "source": [
    "# Step 3: Concatenate all processed datasets along the time dimension\n",
    "merged_nao_data = xr.concat(processed_datasets, dim='time', data_vars='all', coords='different')\n"
   ]
  },
  {
   "cell_type": "code",
   "execution_count": 6,
   "id": "9cce7602",
   "metadata": {},
   "outputs": [
    {
     "name": "stdout",
     "output_type": "stream",
     "text": [
      "<xarray.Dataset> Size: 670MB\n",
      "Dimensions:    (time: 24916, latitude: 64, longitude: 105)\n",
      "Coordinates:\n",
      "  * time       (time) object 199kB 1850-01-01 00:00:00 ... 2015-01-01 00:00:00\n",
      "  * longitude  (longitude) float64 840B 0.0 1.25 2.5 3.75 ... 356.2 357.5 358.8\n",
      "  * latitude   (latitude) float64 512B 20.26 21.2 22.15 ... 77.75 78.69 79.63\n",
      "Data variables:\n",
      "    V050       (time, latitude, longitude) float32 670MB -3.093 ... -10.11\n",
      "Attributes:\n",
      "    Conventions:       CF-1.0\n",
      "    source:            CAM\n",
      "    case:              b.e21.BHISTsmbb.f09_g17.LE2-1251.012\n",
      "    logname:           sunseon\n",
      "    host:              mom1\n",
      "    initial_file:      b.e21.B1850.f09_g17.CMIP6-piControl.001.cam.i.1251-01-...\n",
      "    topography_file:   /mnt/lustre/share/CESM/cesm_input/atm/cam/topo/fv_0.9x...\n",
      "    model_doi_url:     https://doi.org/10.5065/D67H1H0V\n",
      "    time_period_freq:  day_1\n"
     ]
    }
   ],
   "source": [
    "print(merged_nao_data)"
   ]
  },
  {
   "cell_type": "code",
   "execution_count": 7,
   "id": "78f68da3",
   "metadata": {},
   "outputs": [
    {
     "name": "stdout",
     "output_type": "stream",
     "text": [
      "Merged dataset shape: FrozenMappingWarningOnValuesAccess({'time': 24916, 'latitude': 64, 'longitude': 105})\n",
      "Time range: 1850-01-01 00:00:00 to 2015-01-01 00:00:00\n",
      "V050 shape: (24916, 64, 105)\n",
      "Saved merged dataset to C:/Users/31610/Documents/UvA/Master thesis/Data/CESM2 Data/test set V050/merged_cesm2_V050_testset.nc\n"
     ]
    }
   ],
   "source": [
    "# Sort by time to ensure chronological order\n",
    "merged_nao_data = merged_nao_data.sortby('time')\n",
    "\n",
    "# Step 4: Verify the merged dataset\n",
    "print(\"Merged dataset shape:\", merged_nao_data.dims)\n",
    "print(\"Time range:\", merged_nao_data['time'].min().values, \"to\", merged_nao_data['time'].max().values)\n",
    "print(\"V050 shape:\", merged_nao_data['V050'].shape)\n",
    "\n",
    "# Step 5: Save the merged dataset\n",
    "output_file = \"C:/Users/31610/Documents/UvA/Master thesis/Data/CESM2 Data/test set V050/merged_cesm2_V050_testset.nc\"\n",
    "merged_nao_data.to_netcdf(output_file)\n",
    "print(f\"Saved merged dataset to {output_file}\")\n",
    "# Step 6: Clean up\n",
    "for ds in processed_datasets:\n",
    "    ds.close()  # Close each dataset to free up resources"
   ]
  },
  {
   "cell_type": "code",
   "execution_count": 8,
   "id": "37e25403",
   "metadata": {},
   "outputs": [],
   "source": [
    "# Step 6: Clean up\n",
    "for ds in processed_datasets:\n",
    "    ds.close()  # Close each dataset to free up resources"
   ]
  },
  {
   "cell_type": "code",
   "execution_count": 9,
   "id": "afe1e408",
   "metadata": {},
   "outputs": [
    {
     "name": "stdout",
     "output_type": "stream",
     "text": [
      "<xarray.DataArray 'V050' (time: 24916, latitude: 64, longitude: 105)> Size: 670MB\n",
      "array([[[ -3.092682  ,  -3.343086  ,  -3.4936368 , ...,  -1.3413198 ,\n",
      "          -2.1791801 ,  -2.731402  ],\n",
      "        [ -4.186254  ,  -4.502462  ,  -4.73709   , ...,  -2.298499  ,\n",
      "          -3.164488  ,  -3.7494946 ],\n",
      "        [ -5.250101  ,  -5.7450557 ,  -6.1170416 , ...,  -3.043378  ,\n",
      "          -3.9489408 ,  -4.6386733 ],\n",
      "        ...,\n",
      "        [-11.640004  , -11.269746  , -10.9097595 , ..., -12.81273   ,\n",
      "         -12.409102  , -12.019446  ],\n",
      "        [-12.219515  , -11.846014  , -11.481465  , ..., -13.38257   ,\n",
      "         -12.986423  , -12.599665  ],\n",
      "        [-12.459867  , -12.066476  , -11.6840105 , ..., -13.691616  ,\n",
      "         -13.272053  , -12.861939  ]],\n",
      "\n",
      "       [[ -3.6706355 ,  -4.0258784 ,  -4.2998204 , ...,  -2.2401905 ,\n",
      "          -2.7936058 ,  -3.2564955 ],\n",
      "        [ -4.4320974 ,  -4.786875  ,  -5.071417  , ...,  -2.9060924 ,\n",
      "          -3.5228405 ,  -4.016078  ],\n",
      "        [ -5.1142945 ,  -5.454622  ,  -5.7585406 , ...,  -3.5201836 ,\n",
      "          -4.210722  ,  -4.7161727 ],\n",
      "...\n",
      "        [-11.572985  , -11.782636  , -11.981011  , ..., -10.877998  ,\n",
      "         -11.11996   , -11.351905  ],\n",
      "        [-11.355338  , -11.5391655 , -11.717233  , ..., -10.756801  ,\n",
      "         -10.9652605 , -11.164453  ],\n",
      "        [-11.185844  , -11.353175  , -11.517653  , ..., -10.657403  ,\n",
      "         -10.838834  , -11.014739  ]],\n",
      "\n",
      "       [[ -1.2166165 ,  -1.3219838 ,  -1.5664883 , ...,  -2.09651   ,\n",
      "          -1.6235756 ,  -1.3102945 ],\n",
      "        [ -1.7552931 ,  -1.7959194 ,  -1.9523246 , ...,  -2.4587328 ,\n",
      "          -2.1256459 ,  -1.8673047 ],\n",
      "        [ -2.3855493 ,  -2.388649  ,  -2.4664876 , ...,  -2.8031948 ,\n",
      "          -2.6277664 ,  -2.4693525 ],\n",
      "        ...,\n",
      "        [-10.437749  , -10.693487  , -10.942404  , ...,  -9.63067   ,\n",
      "          -9.905584  , -10.174976  ],\n",
      "        [-10.4112    , -10.643378  , -10.868863  , ...,  -9.672663  ,\n",
      "          -9.925413  , -10.171829  ],\n",
      "        [-10.323095  , -10.534872  , -10.742363  , ...,  -9.656847  ,\n",
      "          -9.884559  , -10.106493  ]]], dtype=float32)\n",
      "Coordinates:\n",
      "  * time       (time) object 199kB 1850-01-01 00:00:00 ... 2015-01-01 00:00:00\n",
      "  * longitude  (longitude) float64 840B 0.0 1.25 2.5 3.75 ... 356.2 357.5 358.8\n",
      "  * latitude   (latitude) float64 512B 20.26 21.2 22.15 ... 77.75 78.69 79.63\n",
      "Attributes:\n",
      "    units:         m/s\n",
      "    long_name:     Meridional wind at   50 mbar pressure surface\n",
      "    cell_methods:  time: mean\n"
     ]
    }
   ],
   "source": [
    "print(merged_nao_data['V050'])"
   ]
  }
 ],
 "metadata": {
  "kernelspec": {
   "display_name": "Python 3",
   "language": "python",
   "name": "python3"
  },
  "language_info": {
   "codemirror_mode": {
    "name": "ipython",
    "version": 3
   },
   "file_extension": ".py",
   "mimetype": "text/x-python",
   "name": "python",
   "nbconvert_exporter": "python",
   "pygments_lexer": "ipython3",
   "version": "3.11.4"
  }
 },
 "nbformat": 4,
 "nbformat_minor": 5
}
