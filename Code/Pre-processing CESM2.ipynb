{
 "cells": [
  {
   "cell_type": "code",
   "execution_count": 2,
   "id": "8cc0cd97",
   "metadata": {},
   "outputs": [
    {
     "name": "stdout",
     "output_type": "stream",
     "text": [
      "Found 17 files: ['C:/Users/31610/Documents/UvA/Master thesis/Data/CESM2 Data\\\\1850-1859.nc', 'C:/Users/31610/Documents/UvA/Master thesis/Data/CESM2 Data\\\\1860-1869.nc', 'C:/Users/31610/Documents/UvA/Master thesis/Data/CESM2 Data\\\\1870-1879.nc', 'C:/Users/31610/Documents/UvA/Master thesis/Data/CESM2 Data\\\\1880-1889.nc', 'C:/Users/31610/Documents/UvA/Master thesis/Data/CESM2 Data\\\\1890-1899.nc', 'C:/Users/31610/Documents/UvA/Master thesis/Data/CESM2 Data\\\\1900-1909.nc', 'C:/Users/31610/Documents/UvA/Master thesis/Data/CESM2 Data\\\\1910-1919.nc', 'C:/Users/31610/Documents/UvA/Master thesis/Data/CESM2 Data\\\\1920-1929.nc', 'C:/Users/31610/Documents/UvA/Master thesis/Data/CESM2 Data\\\\1930-1939.nc', 'C:/Users/31610/Documents/UvA/Master thesis/Data/CESM2 Data\\\\1940-1949.nc', 'C:/Users/31610/Documents/UvA/Master thesis/Data/CESM2 Data\\\\1950-1959.nc', 'C:/Users/31610/Documents/UvA/Master thesis/Data/CESM2 Data\\\\1960-1969.nc', 'C:/Users/31610/Documents/UvA/Master thesis/Data/CESM2 Data\\\\1970-1979.nc', 'C:/Users/31610/Documents/UvA/Master thesis/Data/CESM2 Data\\\\1980-1989.nc', 'C:/Users/31610/Documents/UvA/Master thesis/Data/CESM2 Data\\\\1990-1999.nc', 'C:/Users/31610/Documents/UvA/Master thesis/Data/CESM2 Data\\\\2000-2009.nc', 'C:/Users/31610/Documents/UvA/Master thesis/Data/CESM2 Data\\\\2010-2014.nc']\n"
     ]
    }
   ],
   "source": [
    "import xarray as xr\n",
    "import glob\n",
    "import numpy as np\n",
    "\n",
    "# Directory containing the NetCDF files\n",
    "data_dir = \"C:/Users/31610/Documents/UvA/Master thesis/Data/CESM2 Data/\"\n",
    "file_pattern = f\"{data_dir}*.nc\"\n",
    "\n",
    "# Step 1: Find and sort all NetCDF files\n",
    "file_list = sorted(glob.glob(file_pattern))  # Sort to ensure chronological order\n",
    "print(f\"Found {len(file_list)} files: {file_list}\")\n",
    "\n",
    "# Define NAO region coordinates\n",
    "lat_min, lat_max = 20.2617801, 80.57591623  # 20°N to 80°N\n",
    "lon_min_360, lon_max_360 = 270, 40  # 90°W (270°E) to 40°E\n",
    "\n",
    "# Step 2: Process each file\n",
    "processed_datasets = []\n",
    "for file in file_list:\n",
    "    # Open the dataset\n",
    "    ds = xr.open_dataset(file, decode_times=False)\n",
    "\n",
    "    # Select the two parts of the longitude range\n",
    "    lon_part1 = ds.sel(\n",
    "        lat=slice(lat_min, lat_max),  # 20°N to 80°N\n",
    "        lon=slice(0, lon_max_360)     # 0° to 40°E\n",
    "    )\n",
    "    lon_part2 = ds.sel(\n",
    "        lat=slice(lat_min, lat_max),  # 20°N to 80°N\n",
    "        lon=slice(lon_min_360, 358.75)  # 270°E to 358.75°\n",
    "    )\n",
    "\n",
    "    # Concatenate the two longitude parts\n",
    "    nao_data = xr.concat([lon_part1, lon_part2], dim='lon')\n",
    "\n",
    "    # Rename coordinates\n",
    "    nao_data = nao_data.rename({'lon': 'longitude', 'lat': 'latitude'})\n",
    "\n",
    "    # Decode the time coordinate\n",
    "    nao_data['time'] = xr.decode_cf(nao_data)['time']\n",
    "\n",
    "    # Select winter months (November, December, January, February, March)\n",
    "    winter_months = [11, 12, 1, 2, 3]\n",
    "    nao_data = nao_data.sel(time=nao_data['time'].dt.month.isin(winter_months))\n",
    "\n",
    "    # Select only the required variables\n",
    "    nao_data = nao_data[['time', 'longitude', 'latitude', 'PSL']]\n",
    "\n",
    "    # Append to list of processed datasets\n",
    "    processed_datasets.append(nao_data)\n"
   ]
  },
  {
   "cell_type": "code",
   "execution_count": 4,
   "id": "b6759dee",
   "metadata": {},
   "outputs": [],
   "source": [
    "# Step 3: Concatenate all processed datasets along the time dimension\n",
    "merged_nao_data = xr.concat(processed_datasets, dim='time', data_vars='all', coords='different')\n"
   ]
  },
  {
   "cell_type": "code",
   "execution_count": null,
   "id": "78f68da3",
   "metadata": {},
   "outputs": [
    {
     "name": "stdout",
     "output_type": "stream",
     "text": [
      "Merged dataset shape: FrozenMappingWarningOnValuesAccess({'time': 24916, 'latitude': 64, 'longitude': 105})\n",
      "Time range: 1850-01-01 00:00:00 to 2015-01-01 00:00:00\n",
      "PSL shape: (24916, 64, 105)\n",
      "Saved merged dataset to C:/Users/31610/Documents/UvA/Master thesis/Data/CESM2 Data/merged_nao_data_1850-2049.nc\n"
     ]
    }
   ],
   "source": [
    "# Sort by time to ensure chronological order\n",
    "merged_nao_data = merged_nao_data.sortby('time')\n",
    "\n",
    "# Step 4: Verify the merged dataset\n",
    "print(\"Merged dataset shape:\", merged_nao_data.dims)\n",
    "print(\"Time range:\", merged_nao_data['time'].min().values, \"to\", merged_nao_data['time'].max().values)\n",
    "print(\"PSL shape:\", merged_nao_data['PSL'].shape)\n",
    "\n",
    "# Step 5: Save the merged dataset\n",
    "output_file = \"C:/Users/31610/Documents/UvA/Master thesis/Data/CESM2 Data/merged_nao_data_1850-2049.nc\"\n",
    "merged_nao_data.to_netcdf(output_file)\n",
    "print(f\"Saved merged dataset to {output_file}\")\n",
    "# Step 6: Clean up\n",
    "for ds in processed_datasets:\n",
    "    ds.close()  # Close each dataset to free up resources"
   ]
  },
  {
   "cell_type": "code",
   "execution_count": 6,
   "id": "37e25403",
   "metadata": {},
   "outputs": [],
   "source": [
    "# Step 6: Clean up\n",
    "for ds in processed_datasets:\n",
    "    ds.close()  # Close each dataset to free up resources"
   ]
  },
  {
   "cell_type": "code",
   "execution_count": 10,
   "id": "afe1e408",
   "metadata": {},
   "outputs": [
    {
     "name": "stdout",
     "output_type": "stream",
     "text": [
      "<xarray.DataArray 'PSL' (time: 24916, latitude: 64, longitude: 105)> Size: 670MB\n",
      "array([[[102037.44 , 102125.89 , 102234.7  , ..., 102002.55 ,\n",
      "         101996.58 , 102015.61 ],\n",
      "        [102155.78 , 102209.48 , 102299.75 , ..., 102091.375,\n",
      "         102109.305, 102128.6  ],\n",
      "        [102240.4  , 102250.89 , 102281.1  , ..., 102167.49 ,\n",
      "         102199.13 , 102223.43 ],\n",
      "        ...,\n",
      "        [101868.375, 101857.945, 101863.54 , ..., 101920.89 ,\n",
      "         101908.18 , 101887.586],\n",
      "        [102194.95 , 102201.3  , 102203.016, ..., 102178.516,\n",
      "         102185.34 , 102189.664],\n",
      "        [102418.28 , 102414.875, 102410.66 , ..., 102435.39 ,\n",
      "         102423.96 , 102419.48 ]],\n",
      "\n",
      "       [[102037.43 , 102095.68 , 102204.96 , ..., 102013.52 ,\n",
      "         102019.22 , 102018.   ],\n",
      "        [102152.53 , 102192.37 , 102269.164, ..., 102107.81 ,\n",
      "         102122.49 , 102135.18 ],\n",
      "        [102238.96 , 102256.836, 102290.46 , ..., 102184.07 ,\n",
      "         102214.52 , 102230.4  ],\n",
      "...\n",
      "        [ 99237.01 ,  99245.086,  99255.8  , ...,  99222.85 ,\n",
      "          99224.7  ,  99230.43 ],\n",
      "        [ 99473.42 ,  99488.875,  99505.9  , ...,  99454.68 ,\n",
      "          99454.84 ,  99461.08 ],\n",
      "        [ 99647.195,  99657.945,  99672.31 , ...,  99652.82 ,\n",
      "          99640.31 ,  99640.836]],\n",
      "\n",
      "       [[101994.65 , 101932.8  , 101840.04 , ..., 102170.95 ,\n",
      "         102111.61 , 102050.47 ],\n",
      "        [102071.305, 102000.68 , 101936.32 , ..., 102257.51 ,\n",
      "         102196.555, 102136.73 ],\n",
      "        [102140.305, 102063.055, 101971.07 , ..., 102352.91 ,\n",
      "         102295.67 , 102222.73 ],\n",
      "        ...,\n",
      "        [100141.61 , 100141.76 , 100148.984, ..., 100170.805,\n",
      "         100156.45 , 100146.33 ],\n",
      "        [100370.39 , 100372.39 , 100379.09 , ..., 100371.87 ,\n",
      "         100370.07 , 100370.555],\n",
      "        [100511.71 , 100525.59 , 100541.516, ..., 100508.336,\n",
      "         100501.92 , 100502.97 ]]], dtype=float32)\n",
      "Coordinates:\n",
      "  * time       (time) object 199kB 1850-01-01 00:00:00 ... 2015-01-01 00:00:00\n",
      "  * longitude  (longitude) float64 840B 0.0 1.25 2.5 3.75 ... 356.2 357.5 358.8\n",
      "  * latitude   (latitude) float64 512B 20.26 21.2 22.15 ... 77.75 78.69 79.63\n",
      "Attributes:\n",
      "    units:         Pa\n",
      "    long_name:     Sea level pressure\n",
      "    cell_methods:  time: mean\n"
     ]
    }
   ],
   "source": [
    "print(merged_nao_data['PSL'])"
   ]
  }
 ],
 "metadata": {
  "kernelspec": {
   "display_name": "Python 3",
   "language": "python",
   "name": "python3"
  },
  "language_info": {
   "codemirror_mode": {
    "name": "ipython",
    "version": 3
   },
   "file_extension": ".py",
   "mimetype": "text/x-python",
   "name": "python",
   "nbconvert_exporter": "python",
   "pygments_lexer": "ipython3",
   "version": "3.11.4"
  }
 },
 "nbformat": 4,
 "nbformat_minor": 5
}
