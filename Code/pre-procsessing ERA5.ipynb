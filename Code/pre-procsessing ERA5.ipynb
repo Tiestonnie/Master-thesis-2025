{
 "cells": [
  {
   "cell_type": "code",
   "execution_count": 2,
   "id": "f997fcbe",
   "metadata": {},
   "outputs": [
    {
     "name": "stdout",
     "output_type": "stream",
     "text": [
      "Found 2 files: ['C:/Users/31610/Documents/UvA/Master thesis/Data/ERA5\\\\1940-1980.nc', 'C:/Users/31610/Documents/UvA/Master thesis/Data/ERA5\\\\1981-2025.nc']\n"
     ]
    }
   ],
   "source": [
    "import xarray as xr\n",
    "import glob\n",
    "import numpy as np\n",
    "\n",
    "# Directory containing the NetCDF files\n",
    "data_dir = \"C:/Users/31610/Documents/UvA/Master thesis/Data/ERA5/\"\n",
    "file_pattern = f\"{data_dir}*.nc\"\n",
    "\n",
    "# Step 1: Find and sort all NetCDF files\n",
    "file_list = sorted(glob.glob(file_pattern))  # Sort to ensure chronological order\n",
    "print(f\"Found {len(file_list)} files: {file_list}\")\n",
    "\n",
    "# Define NAO region coordinates\n",
    "lat_min, lat_max = 20, 80  # 20°N to 80°N\n",
    "lon_min_360, lon_max_360 = 270, 40  # 90°W (270°E) to 40°E\n",
    "\n",
    "# Step 2: Process each file\n",
    "processed_datasets = []\n",
    "for file in file_list:\n",
    "    # Open the dataset\n",
    "    ds = xr.open_dataset(file, decode_times=False)\n",
    "    ds = ds.isel(latitude=slice(None, None, 4), longitude=slice(None, None, 4))\n",
    "\n",
    "    # Select the two parts of the longitude range\n",
    "    lon_part1 = ds.sel(\n",
    "        latitude=slice(lat_max, lat_min),  # 80°N to 20°N\n",
    "        longitude=slice(lon_min_360, 360)  # 270°E to 360°\n",
    "    )\n",
    "\n",
    "    lon_part2 = ds.sel(\n",
    "        latitude=slice(lat_max, lat_min),  # 80°N to 20°N\n",
    "        longitude=slice(0, lon_max_360)  # 0° to 40°E\n",
    "    )\n",
    "\n",
    "    # Concatenate the two longitude parts\n",
    "    nao_data = xr.concat([lon_part1, lon_part2], dim='longitude')\n",
    "\n",
    "    # Decode the time coordinate\n",
    "    nao_data = xr.decode_cf(nao_data)\n",
    "\n",
    "    # Append to list of processed datasets\n",
    "    processed_datasets.append(nao_data)\n"
   ]
  },
  {
   "cell_type": "code",
   "execution_count": 3,
   "id": "5a5c87c9",
   "metadata": {},
   "outputs": [],
   "source": [
    "merged_nao_data = xr.concat(processed_datasets, dim='valid_time', data_vars='all', coords='different')"
   ]
  },
  {
   "cell_type": "code",
   "execution_count": 4,
   "id": "7ebf1d9e",
   "metadata": {},
   "outputs": [
    {
     "name": "stdout",
     "output_type": "stream",
     "text": [
      "Merged dataset shape: FrozenMappingWarningOnValuesAccess({'valid_time': 12947, 'latitude': 61, 'longitude': 131})\n",
      "Time range: 1940-01-01T00:00:00.000000000 to 2025-03-31T00:00:00.000000000\n",
      "MSL shape: (12947, 61, 131)\n",
      "Saved merged dataset to C:/Users/31610/Documents/UvA/Master thesis/Data/CESM2 Data/merged_nao_data_1940-2025.nc\n"
     ]
    }
   ],
   "source": [
    "# Sort by time to ensure chronological order\n",
    "merged_nao_data = merged_nao_data.sortby('valid_time')\n",
    "\n",
    "# Step 4: Verify the merged dataset\n",
    "print(\"Merged dataset shape:\", merged_nao_data.dims)\n",
    "print(\"Time range:\", merged_nao_data['valid_time'].min().values, \"to\", merged_nao_data['valid_time'].max().values)\n",
    "print(\"MSL shape:\", merged_nao_data['msl'].shape)\n",
    "\n",
    "# Step 5: Save the merged dataset\n",
    "output_file = \"C:/Users/31610/Documents/UvA/Master thesis/Data/CESM2 Data/merged_nao_data_1940-2025.nc\"\n",
    "merged_nao_data.to_netcdf(output_file)\n",
    "print(f\"Saved merged dataset to {output_file}\")\n",
    "# Step 6: Clean up\n",
    "for ds in processed_datasets:\n",
    "    ds.close()  # Close each dataset to free up resources"
   ]
  }
 ],
 "metadata": {
  "kernelspec": {
   "display_name": "Python 3",
   "language": "python",
   "name": "python3"
  },
  "language_info": {
   "codemirror_mode": {
    "name": "ipython",
    "version": 3
   },
   "file_extension": ".py",
   "mimetype": "text/x-python",
   "name": "python",
   "nbconvert_exporter": "python",
   "pygments_lexer": "ipython3",
   "version": "3.11.4"
  }
 },
 "nbformat": 4,
 "nbformat_minor": 5
}
